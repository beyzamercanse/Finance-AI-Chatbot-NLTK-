{
 "cells": [
  {
   "cell_type": "code",
   "execution_count": null,
   "metadata": {},
   "outputs": [],
   "source": [
    "# Cell 1: Import Libraries\n",
    "# Import necessary libraries for building the finance chatbot.\n",
    "# This includes libraries for natural language processing, machine learning, and utilities.\n",
    "import io\n",
    "import random\n",
    "import string\n",
    "import warnings\n",
    "import numpy as np\n",
    "from sklearn.feature_extraction.text import TfidfVectorizer\n",
    "from sklearn.metrics.pairwise import cosine_similarity\n",
    "import warnings\n",
    "\n",
    "# Uncomment the following only the first time\n",
    "# nltk.download('punkt')  # first-time use only\n",
    "# nltk.download('wordnet')  # first-time use only\n",
    "\n",
    "from nltk.stem import WordNetLemmatizer\n",
    "import nltk\n",
    "\n",
    "# Download popular nltk packages\n",
    "nltk.download('popular', quiet=True)\n"
   ]
  },
  {
   "cell_type": "code",
   "execution_count": null,
   "metadata": {},
   "outputs": [],
   "source": [
    "# Cell 2: Read in Finance Corpus\n",
    "# Read the finance-related corpus from a file and tokenize it into sentences and words.\n",
    "with open('finance_corpus.txt', 'r', encoding='utf8', errors='ignore') as fin:\n",
    "    raw = fin.read().lower()\n",
    "\n",
    "# Tokenization\n",
    "sent_tokens = nltk.sent_tokenize(raw)  # converts to a list of sentences\n",
    "word_tokens = nltk.word_tokenize(raw)  # converts to a list of words"
   ]
  },
  {
   "cell_type": "code",
   "execution_count": null,
   "metadata": {},
   "outputs": [],
   "source": [
    "# Cell 3: Define Preprocessing Functions\n",
    "# Define functions for text preprocessing, including lemmatization and removing punctuation.\n",
    "lemmer = WordNetLemmatizer()\n",
    "\n",
    "def LemTokens(tokens):\n",
    "    return [lemmer.lemmatize(token) for token in tokens]\n",
    "\n",
    "remove_punct_dict = dict((ord(punct), None) for punct in string.punctuation)\n",
    "\n",
    "def LemNormalize(text):\n",
    "    return LemTokens(nltk.word_tokenize(text.lower().translate(remove_punct_dict)))"
   ]
  },
  {
   "cell_type": "code",
   "execution_count": null,
   "metadata": {},
   "outputs": [],
   "source": [
    "# Cell 4: Define Greeting Function\n",
    "# Define a function to determine if the user's input is a greeting and provide a greeting response.\n",
    "GREETING_INPUTS = (\"hello\", \"hi\", \"greetings\", \"sup\", \"what's up\", \"hey\",)\n",
    "GREETING_RESPONSES = [\"hi\", \"hey\", \"*nods*\", \"hi there\", \"hello\", \"I am glad! You are talking to me\"]\n",
    "\n",
    "def greeting(sentence):\n",
    "    \"\"\"If the user's input is a greeting, return a greeting response\"\"\"\n",
    "    for word in sentence.split():\n",
    "        if word.lower() in GREETING_INPUTS:\n",
    "            return random.choice(GREETING_RESPONSES)"
   ]
  },
  {
   "cell_type": "code",
   "execution_count": null,
   "metadata": {},
   "outputs": [],
   "source": [
    "# Cell 4: Define Greeting Function\n",
    "# Define a function to determine if the user's input is a greeting and provide a greeting response.\n",
    "GREETING_INPUTS = (\"hello\", \"hi\", \"greetings\", \"sup\", \"what's up\", \"hey\",)\n",
    "GREETING_RESPONSES = [\"hi\", \"hey\", \"*nods*\", \"hi there\", \"hello\", \"I am glad! You are talking to me\"]\n",
    "\n",
    "def greeting(sentence):\n",
    "    \"\"\"If the user's input is a greeting, return a greeting response\"\"\"\n",
    "    for word in sentence.split():\n",
    "        if word.lower() in GREETING_INPUTS:\n",
    "            return random.choice(GREETING_RESPONSES)"
   ]
  },
  {
   "cell_type": "code",
   "execution_count": null,
   "metadata": {},
   "outputs": [],
   "source": [
    "# Cell 5: Define Response Function\n",
    "# Define a function to generate a response based on the user's input using TF-IDF and cosine similarity.\n",
    "def response(user_response):\n",
    "    finance_response = ''\n",
    "    sent_tokens.append(user_response)\n",
    "    TfidfVec = TfidfVectorizer(tokenizer=LemNormalize, stop_words='english')\n",
    "    tfidf = TfidfVec.fit_transform(sent_tokens)\n",
    "    vals = cosine_similarity(tfidf[-1], tfidf)\n",
    "    idx = vals.argsort()[0][-2]\n",
    "    flat = vals.flatten()\n",
    "    flat.sort()\n",
    "    req_tfidf = flat[-2]\n",
    "    if req_tfidf == 0:\n",
    "        finance_response = finance_response + \"I am sorry! I don't really understand you\"\n",
    "        return finance_response\n",
    "    else:\n",
    "        finance_response = finance_response + sent_tokens[idx]\n",
    "        return finance_response\n"
   ]
  },
  {
   "cell_type": "code",
   "execution_count": null,
   "metadata": {},
   "outputs": [],
   "source": [
    "# Cell 6: Implement Chat Loop\n",
    "# Implement the main chat loop where the finance chatbot interacts with the user.\n",
    "flag = True\n",
    "print(\"FinanceBot: Hello! I'm FinanceBot, your financial assistant. I can help you with questions about finance. If you want to exit, type 'BYE.'\")\n",
    "while flag:\n",
    "    user_response = input()\n",
    "    user_response = user_response.lower()\n",
    "    if user_response != 'bye':\n",
    "        if user_response == 'thanks' or user_response == 'thank you!':\n",
    "            flag = False\n",
    "            print(\"FinanceBot: You are more than welcome!\")\n",
    "        else:\n",
    "            if greeting(user_response) is not None:\n",
    "                print(\"FinanceBot: \" + greeting(user_response))\n",
    "            else:\n",
    "                print(\"FinanceBot: \", end=\"\")\n",
    "                print(response(user_response))\n",
    "                sent_tokens.remove(user_response)\n",
    "    else:\n",
    "        flag = False\n",
    "        print(\"FinanceBot: Goodbye! Hope to assist you again.\")\n"
   ]
  }
 ],
 "metadata": {
  "language_info": {
   "name": "python"
  },
  "orig_nbformat": 4
 },
 "nbformat": 4,
 "nbformat_minor": 2
}
